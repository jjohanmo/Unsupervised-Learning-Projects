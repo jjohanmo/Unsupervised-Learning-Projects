{
 "cells": [
  {
   "cell_type": "code",
   "execution_count": 1,
   "id": "2ade4c5b",
   "metadata": {},
   "outputs": [],
   "source": [
    "import tensorflow as tf\n",
    "import matplotlib.pyplot as plt\n",
    "import gym\n",
    "from tensorflow import keras\n",
    "import numpy as np\n",
    "import matplotlib.animation as animation\n",
    "import matplotlib as mpl\n"
   ]
  },
  {
   "cell_type": "code",
   "execution_count": 2,
   "id": "ea8c04cf",
   "metadata": {},
   "outputs": [],
   "source": [
    "env = gym.make(\"LunarLander-v2\")"
   ]
  },
  {
   "cell_type": "code",
   "execution_count": 3,
   "id": "4d52620b",
   "metadata": {},
   "outputs": [
    {
     "name": "stdout",
     "output_type": "stream",
     "text": [
      "Observations [-0.00285311  1.4188244  -0.2890017   0.35130486  0.00331281  0.06546324\n",
      "  0.          0.        ]\n"
     ]
    }
   ],
   "source": [
    "#first we need to initialize the environment by calling is reset() method.\n",
    "env.seed(32)\n",
    "obs = env.reset()\n",
    "print(\"Observations\", obs) \n"
   ]
  },
  {
   "cell_type": "code",
   "execution_count": 4,
   "id": "1eac42b0",
   "metadata": {},
   "outputs": [],
   "source": [
    "#The environment  tells us how much reward got the agent during the last step  \n",
    "action = env.action_space.sample()         \n",
    "next_state, reward, done, info = env.step(action)"
   ]
  },
  {
   "cell_type": "code",
   "execution_count": 5,
   "id": "581e16a1",
   "metadata": {},
   "outputs": [
    {
     "name": "stdout",
     "output_type": "stream",
     "text": [
      "Stage ->  [-0.0057065   1.4261507  -0.2886104   0.32559812  0.00654771  0.06470464\n",
      "  0.          0.        ]\n",
      "action:  0\n",
      "Reward:  0.9235896771213561\n",
      "False\n",
      "{}\n"
     ]
    }
   ],
   "source": [
    "     \n",
    "print(\"Stage -> \", next_state)\n",
    "print(\"action: \",action)\n",
    "print(\"Reward: \",reward)\n",
    "print(done)\n",
    "print(info)"
   ]
  },
  {
   "cell_type": "code",
   "execution_count": 6,
   "id": "33bb9221",
   "metadata": {},
   "outputs": [
    {
     "name": "stdout",
     "output_type": "stream",
     "text": [
      "Episode:1 Score:-294.14572806246474\n",
      "Episode:2 Score:-226.28877357879895\n",
      "Episode:3 Score:-207.94446108594553\n",
      "Episode:4 Score:-179.73220919429716\n",
      "Episode:5 Score:-84.67543053760262\n",
      "Episode:6 Score:-190.31103653620067\n",
      "Episode:7 Score:-130.00884490013146\n",
      "Episode:8 Score:-118.18640910685221\n",
      "Episode:9 Score:-140.28358196984146\n",
      "Episode:10 Score:-120.64333186195401\n",
      "Episode:11 Score:-108.32463263787216\n",
      "Episode:12 Score:-235.44430004435614\n",
      "Episode:13 Score:-132.15822280951716\n",
      "Episode:14 Score:-121.79710513323731\n",
      "Episode:15 Score:-119.17608198595248\n",
      "Episode:16 Score:-170.40140123113065\n",
      "Episode:17 Score:-167.79476810993162\n",
      "Episode:18 Score:-90.4967028873276\n",
      "Episode:19 Score:-288.53900397738016\n",
      "Episode:20 Score:-126.0498388829304\n"
     ]
    }
   ],
   "source": [
    "#run the lunar lander \n",
    "\n",
    "episodes = 20\n",
    "for episode in range(1, episodes+1):\n",
    "    state = env.reset()\n",
    "    done = False\n",
    "    score = 0 \n",
    "    \n",
    "    while not done:\n",
    "        env.render()\n",
    "        action = env.action_space.sample()\n",
    "        n_state, reward, done, info = env.step(action)\n",
    "        score += reward\n",
    "    print('Episode:{} Score:{}'.format(episode, score))\n",
    "env.close()\n"
   ]
  },
  {
   "cell_type": "code",
   "execution_count": 7,
   "id": "874293a1",
   "metadata": {},
   "outputs": [
    {
     "name": "stdout",
     "output_type": "stream",
     "text": [
      "Actions 4\n",
      "Observation Space is  8\n"
     ]
    }
   ],
   "source": [
    "#1. do nothing   2. fire left engine   3.fire  main/down engine  4. fire right engine \n",
    "actions = env.action_space.n\n",
    "print(\"Actions\", actions)\n",
    "\n",
    "\n",
    "\n",
    "print(\"Observation Space is \", env.observation_space.shape[0])\n"
   ]
  },
  {
   "cell_type": "code",
   "execution_count": 8,
   "id": "8340a395",
   "metadata": {},
   "outputs": [
    {
     "name": "stdout",
     "output_type": "stream",
     "text": [
      "Next Stage is -> [ 5.0394756e-01 -1.5597460e-01  4.5527926e-01  1.6800765e-02\n",
      "  5.5516575e-02  2.6799989e-09  0.0000000e+00  0.0000000e+00]\n",
      "Action ->  3\n",
      "-100\n",
      "True\n",
      "{}\n"
     ]
    }
   ],
   "source": [
    "#The environment  tells us how much reward got the agent  during the last step\n",
    "action = env.action_space.sample()         \n",
    "next_state, reward, done, info = env.step(action)\n",
    "            \n",
    "     \n",
    "print(\"Next Stage is ->\", next_state)\n",
    "print(\"Action -> \", action)\n",
    "print(reward)\n",
    "print(done)\n",
    "print(info)\n"
   ]
  },
  {
   "cell_type": "code",
   "execution_count": 9,
   "id": "01ce918b",
   "metadata": {},
   "outputs": [
    {
     "name": "stdout",
     "output_type": "stream",
     "text": [
      "[-inf -inf -inf -inf -inf -inf -inf -inf]\n",
      "[inf inf inf inf inf inf inf inf]\n"
     ]
    }
   ],
   "source": [
    "print(env.observation_space.low)\n",
    "\n",
    "print(env.observation_space.high)"
   ]
  },
  {
   "cell_type": "code",
   "execution_count": 10,
   "id": "95a3207a",
   "metadata": {},
   "outputs": [],
   "source": [
    "# Create a simple policy network with 4 output neurons (one per possible action) that use the Model class in the keras.models. [15 points]\n",
    "\n",
    "keras.backend.clear_session()\n",
    "np.random.seed(42)\n",
    "\n",
    "tf.random.set_seed(42)\n",
    "\n",
    "n_inputs = env.observation_space.shape[0] # (8,)\n",
    "n_outputs = env.action_space.n     # 4\n",
    "\n",
    "\n",
    "model = keras.models.Sequential([\n",
    "            keras.layers.Dense( 32, activation=\"relu\", input_shape=[n_inputs] ),\n",
    "            keras.layers.Dense( 32, activation=\"relu\" ),\n",
    "            keras.layers.Dense( n_outputs, activation=\"softmax\" ),\n",
    "        ])\n",
    "\n",
    "def lander_play_one_step(env, obs, model, loss_fn):\n",
    "  with tf.GradientTape() as tape:\n",
    "    probas = model( obs[np.newaxis] ) # obs[np.newaxis] ==> (batch_size, observation)\n",
    "    logits = tf.math.log( probas + keras.backend.epsilon() )\n",
    "    # num_samples : Number of independent samples to draw for each row slice.\n",
    "    # tf.random.categorical : The drawn samples of shape [batch_size, num_samples].\n",
    "    action = tf.random.categorical( logits, num_samples=1 ) # select an action index for each sample\n",
    "    loss = tf.reduce_mean( loss_fn(action, probas) )\n",
    "  grads = tape.gradient( loss, model.trainable_variables )\n",
    "  obs, reward, done, info = env.step( action[0,0].numpy() )\n",
    "  return obs, reward, done, grads\n",
    "\n",
    "def lander_play_multiple_episodes(env, n_episodes, n_max_steps, model, loss_fn ):\n",
    "  all_rewards = []\n",
    "  all_grads = []\n",
    "\n",
    "  for episode in range( n_episodes ):\n",
    "    current_rewards = []\n",
    "    current_grads = []\n",
    "    obs = env.reset()\n",
    "\n",
    "    for step in range( n_max_steps ):\n",
    "      obs, reward, done, grads = lander_play_one_step( env, obs, model, loss_fn )\n",
    "      current_rewards.append( reward )\n",
    "      current_grads.append( grads )\n",
    "      if done:\n",
    "        break\n",
    "        \n",
    "    all_rewards.append( current_rewards )\n",
    "    all_grads.append( current_grads )\n",
    "\n",
    "  return all_rewards, all_grads\n",
    "\n",
    "\n",
    "def discount_rewards( rewards, discount_rate ):\n",
    "  discounted = np.array( rewards )\n",
    "  # from back to front that to avoid use a recursion\n",
    "  for step in range( len(rewards)-2, -1, -1 ): # except last_reward(use itself): len(rewards)-1\n",
    "    discounted[step] += discounted[step+1] * discount_rate\n",
    "  return discounted"
   ]
  },
  {
   "cell_type": "code",
   "execution_count": 11,
   "id": "6ab9de81",
   "metadata": {},
   "outputs": [],
   "source": [
    "# To normalize all discounted rewards across all episodes\n",
    "def discount_and_normalize_rewards( all_rewards, discount_rate ):\n",
    "  all_discounted_rewards = [ discount_rewards(rewards, discount_rate)\n",
    "                             for rewards in all_rewards\n",
    "                           ]\n",
    "  flat_rewards = np.concatenate( all_discounted_rewards ) # []+...[]=>[]\n",
    "  reward_mean = flat_rewards.mean()\n",
    "  reward_std = flat_rewards.std()\n",
    "\n",
    "  return[ (discounted_rewards - reward_mean)/reward_std\n",
    "          for discounted_rewards in all_discounted_rewards\n",
    "        ]  \n"
   ]
  },
  {
   "cell_type": "code",
   "execution_count": 12,
   "id": "ecf0c5ca",
   "metadata": {},
   "outputs": [],
   "source": [
    "#Discuss the rationale of the activation functions used in the network. [10 points]\n",
    "optimizer = keras.optimizers.Nadam(learning_rate = 0.005)\n",
    "loss_fn = keras.losses.sparse_categorical_crossentropy"
   ]
  },
  {
   "cell_type": "code",
   "execution_count": 14,
   "id": "883658df",
   "metadata": {},
   "outputs": [
    {
     "name": "stdout",
     "output_type": "stream",
     "text": [
      "Iteration: 50/50, mean reward: -20.1  "
     ]
    }
   ],
   "source": [
    "#Implement a strategy that adjusts the following hyperparameters: (i) the number of iterations, (ii) the number of episodes, (iii) the maximum number of steps, and (iv) the discount factor \n",
    "\n",
    "n_iterations = 50 \n",
    "n_episodes_per_update = 16 \n",
    "n_max_steps = 1000 \n",
    "discount_rate = 0.99\n",
    "\n",
    "\n",
    "env.seed(42)\n",
    "\n",
    "mean_rewards = []\n",
    "\n",
    "for iteration in range(n_iterations):\n",
    "  all_rewards, all_grads = lander_play_multiple_episodes( env,\n",
    "                                                          n_episodes_per_update,\n",
    "                                                          n_max_steps,\n",
    "                                                          model,\n",
    "                                                          loss_fn\n",
    "                                                        )\n",
    "  mean_reward = sum( map(sum, all_rewards) ) / n_episodes_per_update\n",
    "  print( \"\\rIteration: {}/{}, mean reward: {:.1f} \".format( iteration+1, \n",
    "                                                            n_iterations, \n",
    "                                                            mean_reward \n",
    "                                                          ),\n",
    "        end = \"\"\n",
    "       )\n",
    "  mean_rewards.append(mean_reward)\n",
    "    \n",
    "    \n",
    "\n",
    "  all_final_rewards = discount_and_normalize_rewards( all_rewards, discount_rate)\n",
    "  \n",
    "  all_mean_grads = []\n",
    "  for var_index in range( len(model.trainable_variables) ):\n",
    "    mean_grads = tf.reduce_mean(\n",
    "        [ final_reward * all_grads[episode_index][step][var_index]\n",
    "          for episode_index, final_rewards in enumerate( all_final_rewards )\n",
    "            for step, final_reward in enumerate( final_rewards )\n",
    "        ],\n",
    "        axis=0  \n",
    "    )\n",
    "    all_mean_grads.append( mean_grads )\n",
    "    \n",
    "  optimizer.apply_gradients( zip( all_mean_grads, model.trainable_variables ) )\n"
   ]
  },
  {
   "cell_type": "code",
   "execution_count": 15,
   "id": "a393b580",
   "metadata": {},
   "outputs": [
    {
     "data": {
      "image/png": "[encoded data removed]",
      "text/plain": [
       "<Figure size 640x480 with 1 Axes>"
      ]
     },
     "metadata": {},
     "output_type": "display_data"
    }
   ],
   "source": [
    "#Provide the parameters of the worst and best network policy and plot their corresponding Mean reward on the y-axis to Episode on the x-axis. [15 points]\n",
    "\n",
    "\n",
    "plt.plot(mean_rewards)\n",
    "plt.xlabel(\"Episode\")\n",
    "plt.ylabel(\"Mean reward\")\n",
    "plt.grid()\n",
    "\n",
    "plt.show()"
   ]
  },
  {
   "cell_type": "code",
   "execution_count": 25,
   "id": "e8e5de7e",
   "metadata": {},
   "outputs": [],
   "source": [
    "def lander_render_policy_net(model, n_max_steps=500, seed=42):\n",
    "    frames = []\n",
    "    env = gym.make(\"LunarLander-v2\")\n",
    "    env.seed(seed)\n",
    "    tf.random.set_seed(seed)\n",
    "    np.random.seed(seed)\n",
    "    obs = env.reset()\n",
    "    for step in range(n_max_steps):\n",
    "        frames.append(env.render(mode=\"rgb_array\"))\n",
    "        probas = model(obs[np.newaxis])\n",
    "        logits = tf.math.log(probas + tf.keras.backend.epsilon())\n",
    "        action = tf.random.categorical(logits, num_samples=1)\n",
    "        obs, reward, done, info = env.step(action[0, 0].numpy())\n",
    "        if done:\n",
    "            break\n",
    "    env.close()\n",
    "    return frames"
   ]
  },
  {
   "cell_type": "code",
   "execution_count": 26,
   "id": "cae27cb6",
   "metadata": {},
   "outputs": [],
   "source": [
    "def update_scene(num, frames, patch):\n",
    "    patch.set_data(frames[num])\n",
    "    return patch,\n",
    "\n",
    "def plot_animation(frames, repeat=False, interval=40):\n",
    "    fig = plt.figure()\n",
    "    patch = plt.imshow(frames[0])\n",
    "    plt.axis('off')\n",
    "    anim = animation.FuncAnimation(\n",
    "        fig, update_scene, fargs=(frames, patch),\n",
    "        frames=len(frames), repeat=repeat, interval=interval)\n",
    "    plt.close()\n",
    "    return anim"
   ]
  },
  {
   "cell_type": "code",
   "execution_count": 27,
   "id": "247af4da",
   "metadata": {},
   "outputs": [
    {
     "data": {
      "text/plain": [
       "<matplotlib.animation.FuncAnimation at 0x1b262e24ee0>"
      ]
     },
     "execution_count": 27,
     "metadata": {},
     "output_type": "execute_result"
    }
   ],
   "source": [
    "frames = lander_render_policy_net(model, seed=42)\n",
    "plot_animation(frames)"
   ]
  },
  {
   "cell_type": "code",
   "execution_count": null,
   "id": "66c38f5f",
   "metadata": {},
   "outputs": [],
   "source": []
  },
  {
   "cell_type": "code",
   "execution_count": null,
   "id": "0cb4ad70",
   "metadata": {},
   "outputs": [],
   "source": []
  },
  {
   "cell_type": "code",
   "execution_count": null,
   "id": "e1059552",
   "metadata": {},
   "outputs": [],
   "source": []
  },
  {
   "cell_type": "code",
   "execution_count": null,
   "id": "b3cf0e24",
   "metadata": {},
   "outputs": [],
   "source": []
  }
 ],
 "metadata": {
  "kernelspec": {
   "display_name": "Python 3 (ipykernel)",
   "language": "python",
   "name": "python3"
  },
  "language_info": {
   "codemirror_mode": {
    "name": "ipython",
    "version": 3
   },
   "file_extension": ".py",
   "mimetype": "text/x-python",
   "name": "python",
   "nbconvert_exporter": "python",
   "pygments_lexer": "ipython3",
   "version": "3.9.13"
  }
 },
 "nbformat": 4,
 "nbformat_minor": 5
}
